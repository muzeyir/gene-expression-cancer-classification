{
  "cells": [
    {
      "cell_type": "markdown",
      "metadata": {
        "id": "view-in-github",
        "colab_type": "text"
      },
      "source": [
        "<a href=\"https://colab.research.google.com/github/muzeyir/gene-expression-cancer-classification/blob/main/notebooks/main.ipynb\" target=\"_parent\"><img src=\"https://colab.research.google.com/assets/colab-badge.svg\" alt=\"Open In Colab\"/></a>"
      ]
    },
    {
      "cell_type": "code",
      "execution_count": 1,
      "id": "6e2dc550",
      "metadata": {
        "vscode": {
          "languageId": "plaintext"
        },
        "id": "6e2dc550",
        "outputId": "67f9db1f-8069-4429-9b97-e1e1cad2b5f3",
        "colab": {
          "base_uri": "https://localhost:8080/"
        }
      },
      "outputs": [
        {
          "output_type": "stream",
          "name": "stdout",
          "text": [
            "Mounted at /content/drive\n"
          ]
        }
      ],
      "source": [
        "from google.colab import drive\n",
        "drive.mount('/content/drive')"
      ]
    },
    {
      "cell_type": "code",
      "source": [
        "import pandas as pd\n",
        "\n",
        "# CSV dosyasının tam yolunu belirt\n",
        "data_path = '/content/drive/MyDrive/data-for-capstone-project/data.csv'\n",
        "\n",
        "# Veriyi yükle\n",
        "df = pd.read_csv(data_path)\n",
        "\n",
        "# Veriyi incele\n",
        "print(df.head())"
      ],
      "metadata": {
        "id": "JMbWiOV9AHNe",
        "outputId": "734c8552-03de-4f83-c511-8e2f8908500a",
        "colab": {
          "base_uri": "https://localhost:8080/"
        }
      },
      "id": "JMbWiOV9AHNe",
      "execution_count": 3,
      "outputs": [
        {
          "output_type": "stream",
          "name": "stdout",
          "text": [
            "  Unnamed: 0  gene_0    gene_1    gene_2    gene_3     gene_4  gene_5  \\\n",
            "0   sample_0     0.0  2.017209  3.265527  5.478487  10.431999     0.0   \n",
            "1   sample_1     0.0  0.592732  1.588421  7.586157   9.623011     0.0   \n",
            "2   sample_2     0.0  3.511759  4.327199  6.881787   9.870730     0.0   \n",
            "3   sample_3     0.0  3.663618  4.507649  6.659068  10.196184     0.0   \n",
            "4   sample_4     0.0  2.655741  2.821547  6.539454   9.738265     0.0   \n",
            "\n",
            "     gene_6    gene_7  gene_8  ...  gene_20521  gene_20522  gene_20523  \\\n",
            "0  7.175175  0.591871     0.0  ...    4.926711    8.210257    9.723516   \n",
            "1  6.816049  0.000000     0.0  ...    4.593372    7.323865    9.740931   \n",
            "2  6.972130  0.452595     0.0  ...    5.125213    8.127123   10.908640   \n",
            "3  7.843375  0.434882     0.0  ...    6.076566    8.792959   10.141520   \n",
            "4  6.566967  0.360982     0.0  ...    5.996032    8.891425   10.373790   \n",
            "\n",
            "   gene_20524  gene_20525  gene_20526  gene_20527  gene_20528  gene_20529  \\\n",
            "0    7.220030    9.119813   12.003135    9.650743    8.921326    5.286759   \n",
            "1    6.256586    8.381612   12.674552   10.517059    9.397854    2.094168   \n",
            "2    5.401607    9.911597    9.045255    9.788359   10.090470    1.683023   \n",
            "3    8.942805    9.601208   11.392682    9.694814    9.684365    3.292001   \n",
            "4    7.181162    9.846910   11.922439    9.217749    9.461191    5.110372   \n",
            "\n",
            "   gene_20530  \n",
            "0         0.0  \n",
            "1         0.0  \n",
            "2         0.0  \n",
            "3         0.0  \n",
            "4         0.0  \n",
            "\n",
            "[5 rows x 20532 columns]\n"
          ]
        }
      ]
    },
    {
      "cell_type": "code",
      "source": [
        "print(df.head())"
      ],
      "metadata": {
        "id": "w7CjboeOAlRw",
        "outputId": "fd68cc6e-c90c-4d62-ffc3-9d29f1fbf121",
        "colab": {
          "base_uri": "https://localhost:8080/"
        }
      },
      "id": "w7CjboeOAlRw",
      "execution_count": 4,
      "outputs": [
        {
          "output_type": "stream",
          "name": "stdout",
          "text": [
            "  Unnamed: 0  gene_0    gene_1    gene_2    gene_3     gene_4  gene_5  \\\n",
            "0   sample_0     0.0  2.017209  3.265527  5.478487  10.431999     0.0   \n",
            "1   sample_1     0.0  0.592732  1.588421  7.586157   9.623011     0.0   \n",
            "2   sample_2     0.0  3.511759  4.327199  6.881787   9.870730     0.0   \n",
            "3   sample_3     0.0  3.663618  4.507649  6.659068  10.196184     0.0   \n",
            "4   sample_4     0.0  2.655741  2.821547  6.539454   9.738265     0.0   \n",
            "\n",
            "     gene_6    gene_7  gene_8  ...  gene_20521  gene_20522  gene_20523  \\\n",
            "0  7.175175  0.591871     0.0  ...    4.926711    8.210257    9.723516   \n",
            "1  6.816049  0.000000     0.0  ...    4.593372    7.323865    9.740931   \n",
            "2  6.972130  0.452595     0.0  ...    5.125213    8.127123   10.908640   \n",
            "3  7.843375  0.434882     0.0  ...    6.076566    8.792959   10.141520   \n",
            "4  6.566967  0.360982     0.0  ...    5.996032    8.891425   10.373790   \n",
            "\n",
            "   gene_20524  gene_20525  gene_20526  gene_20527  gene_20528  gene_20529  \\\n",
            "0    7.220030    9.119813   12.003135    9.650743    8.921326    5.286759   \n",
            "1    6.256586    8.381612   12.674552   10.517059    9.397854    2.094168   \n",
            "2    5.401607    9.911597    9.045255    9.788359   10.090470    1.683023   \n",
            "3    8.942805    9.601208   11.392682    9.694814    9.684365    3.292001   \n",
            "4    7.181162    9.846910   11.922439    9.217749    9.461191    5.110372   \n",
            "\n",
            "   gene_20530  \n",
            "0         0.0  \n",
            "1         0.0  \n",
            "2         0.0  \n",
            "3         0.0  \n",
            "4         0.0  \n",
            "\n",
            "[5 rows x 20532 columns]\n"
          ]
        }
      ]
    },
    {
      "cell_type": "code",
      "source": [
        "print(df.info())"
      ],
      "metadata": {
        "id": "-Q1Gfm3cA6kX",
        "outputId": "e39c22c5-b891-4209-a900-d68a20920878",
        "colab": {
          "base_uri": "https://localhost:8080/"
        }
      },
      "id": "-Q1Gfm3cA6kX",
      "execution_count": 5,
      "outputs": [
        {
          "output_type": "stream",
          "name": "stdout",
          "text": [
            "<class 'pandas.core.frame.DataFrame'>\n",
            "RangeIndex: 801 entries, 0 to 800\n",
            "Columns: 20532 entries, Unnamed: 0 to gene_20530\n",
            "dtypes: float64(20531), object(1)\n",
            "memory usage: 125.5+ MB\n",
            "None\n"
          ]
        }
      ]
    },
    {
      "cell_type": "code",
      "source": [
        "print(df.isnull().sum())"
      ],
      "metadata": {
        "id": "I1Lkhi0XA8nA",
        "outputId": "12081c5e-67ff-44e9-f02e-3d26715e2ac7",
        "colab": {
          "base_uri": "https://localhost:8080/"
        }
      },
      "id": "I1Lkhi0XA8nA",
      "execution_count": 6,
      "outputs": [
        {
          "output_type": "stream",
          "name": "stdout",
          "text": [
            "Unnamed: 0    0\n",
            "gene_0        0\n",
            "gene_1        0\n",
            "gene_2        0\n",
            "gene_3        0\n",
            "             ..\n",
            "gene_20526    0\n",
            "gene_20527    0\n",
            "gene_20528    0\n",
            "gene_20529    0\n",
            "gene_20530    0\n",
            "Length: 20532, dtype: int64\n"
          ]
        }
      ]
    },
    {
      "cell_type": "code",
      "source": [],
      "metadata": {
        "id": "A8_MGuSGBBpO"
      },
      "id": "A8_MGuSGBBpO",
      "execution_count": null,
      "outputs": []
    }
  ],
  "metadata": {
    "language_info": {
      "name": "python"
    },
    "colab": {
      "provenance": [],
      "include_colab_link": true
    },
    "kernelspec": {
      "name": "python3",
      "display_name": "Python 3"
    }
  },
  "nbformat": 4,
  "nbformat_minor": 5
}